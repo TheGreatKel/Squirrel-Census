{
 "cells": [
  {
   "cell_type": "markdown",
   "metadata": {},
   "source": [
    "# Central Park Squirrel Census Analysis (Logistic Regression)\n",
    "\n",
    "This is a project that uses the 2018 Central Park Squirrel Census Data set. I performed Logistic Regression to predict wheter a squirrel is an adult (1) or a juvenile (0). I used pandas, numpy, matplotlib,  and scikit learn.\n",
    "\n",
    "For a description of the data set and the values used, please refer to these links:\n",
    "\n",
    "https://data.cityofnewyork.us/Environment/2018-Central-Park-Squirrel-Census-Squirrel-Data/vfnx-vebw\n",
    "\n",
    "https://data.cityofnewyork.us/Environment/2018-Central-Park-Squirrel-Census-Hectare-Data/ej9h-v6g2"
   ]
  },
  {
   "cell_type": "markdown",
   "metadata": {},
   "source": [
    "## Import and merge data"
   ]
  },
  {
   "cell_type": "code",
   "execution_count": 1,
   "metadata": {},
   "outputs": [],
   "source": [
    "import pandas as pd\n",
    "import numpy as np\n",
    "import matplotlib.pyplot as plt\n",
    "from sklearn.model_selection import train_test_split\n",
    "from sklearn.linear_model import LogisticRegression\n",
    "from sklearn.metrics import classification_report, confusion_matrix\n",
    "from sklearn.utils import resample\n",
    "\n",
    "squirrels = pd.read_csv(\"/Users/kelvenopoku/Downloads/2018_Central_Park_Squirrel_Census_-_Squirrel_Data.csv\")\n",
    "hectare = pd.read_csv(\"/Users/kelvenopoku/Downloads/2018_Central_Park_Squirrel_Census_-_Hectare_Data.csv\")"
   ]
  },
  {
   "cell_type": "code",
   "execution_count": 2,
   "metadata": {
    "scrolled": false
   },
   "outputs": [
    {
     "data": {
      "text/html": [
       "<div>\n",
       "<style scoped>\n",
       "    .dataframe tbody tr th:only-of-type {\n",
       "        vertical-align: middle;\n",
       "    }\n",
       "\n",
       "    .dataframe tbody tr th {\n",
       "        vertical-align: top;\n",
       "    }\n",
       "\n",
       "    .dataframe thead th {\n",
       "        text-align: right;\n",
       "    }\n",
       "</style>\n",
       "<table border=\"1\" class=\"dataframe\">\n",
       "  <thead>\n",
       "    <tr style=\"text-align: right;\">\n",
       "      <th></th>\n",
       "      <th>X</th>\n",
       "      <th>Y</th>\n",
       "      <th>Unique Squirrel ID</th>\n",
       "      <th>Hectare</th>\n",
       "      <th>Shift</th>\n",
       "      <th>Date</th>\n",
       "      <th>Hectare Squirrel Number</th>\n",
       "      <th>Age</th>\n",
       "      <th>Primary Fur Color</th>\n",
       "      <th>Highlight Fur Color</th>\n",
       "      <th>...</th>\n",
       "      <th>Approaches</th>\n",
       "      <th>Indifferent</th>\n",
       "      <th>Runs from</th>\n",
       "      <th>Other Interactions</th>\n",
       "      <th>Lat/Long</th>\n",
       "      <th>Zip Codes</th>\n",
       "      <th>Community Districts</th>\n",
       "      <th>Borough Boundaries</th>\n",
       "      <th>City Council Districts</th>\n",
       "      <th>Police Precincts</th>\n",
       "    </tr>\n",
       "  </thead>\n",
       "  <tbody>\n",
       "    <tr>\n",
       "      <th>0</th>\n",
       "      <td>-73.956134</td>\n",
       "      <td>40.794082</td>\n",
       "      <td>37F-PM-1014-03</td>\n",
       "      <td>37F</td>\n",
       "      <td>PM</td>\n",
       "      <td>10142018</td>\n",
       "      <td>3</td>\n",
       "      <td>NaN</td>\n",
       "      <td>NaN</td>\n",
       "      <td>NaN</td>\n",
       "      <td>...</td>\n",
       "      <td>False</td>\n",
       "      <td>False</td>\n",
       "      <td>False</td>\n",
       "      <td>NaN</td>\n",
       "      <td>POINT (-73.9561344937861 40.7940823884086)</td>\n",
       "      <td>NaN</td>\n",
       "      <td>19</td>\n",
       "      <td>4</td>\n",
       "      <td>19</td>\n",
       "      <td>13</td>\n",
       "    </tr>\n",
       "    <tr>\n",
       "      <th>1</th>\n",
       "      <td>-73.957044</td>\n",
       "      <td>40.794851</td>\n",
       "      <td>37E-PM-1006-03</td>\n",
       "      <td>37E</td>\n",
       "      <td>PM</td>\n",
       "      <td>10062018</td>\n",
       "      <td>3</td>\n",
       "      <td>Adult</td>\n",
       "      <td>Gray</td>\n",
       "      <td>Cinnamon</td>\n",
       "      <td>...</td>\n",
       "      <td>False</td>\n",
       "      <td>False</td>\n",
       "      <td>True</td>\n",
       "      <td>me</td>\n",
       "      <td>POINT (-73.9570437717691 40.794850940803904)</td>\n",
       "      <td>NaN</td>\n",
       "      <td>19</td>\n",
       "      <td>4</td>\n",
       "      <td>19</td>\n",
       "      <td>13</td>\n",
       "    </tr>\n",
       "    <tr>\n",
       "      <th>2</th>\n",
       "      <td>-73.976831</td>\n",
       "      <td>40.766718</td>\n",
       "      <td>2E-AM-1010-03</td>\n",
       "      <td>02E</td>\n",
       "      <td>AM</td>\n",
       "      <td>10102018</td>\n",
       "      <td>3</td>\n",
       "      <td>Adult</td>\n",
       "      <td>Cinnamon</td>\n",
       "      <td>NaN</td>\n",
       "      <td>...</td>\n",
       "      <td>False</td>\n",
       "      <td>True</td>\n",
       "      <td>False</td>\n",
       "      <td>NaN</td>\n",
       "      <td>POINT (-73.9768311751004 40.76671780725581)</td>\n",
       "      <td>NaN</td>\n",
       "      <td>19</td>\n",
       "      <td>4</td>\n",
       "      <td>19</td>\n",
       "      <td>13</td>\n",
       "    </tr>\n",
       "    <tr>\n",
       "      <th>3</th>\n",
       "      <td>-73.975725</td>\n",
       "      <td>40.769703</td>\n",
       "      <td>5D-PM-1018-05</td>\n",
       "      <td>05D</td>\n",
       "      <td>PM</td>\n",
       "      <td>10182018</td>\n",
       "      <td>5</td>\n",
       "      <td>Juvenile</td>\n",
       "      <td>Gray</td>\n",
       "      <td>NaN</td>\n",
       "      <td>...</td>\n",
       "      <td>False</td>\n",
       "      <td>False</td>\n",
       "      <td>True</td>\n",
       "      <td>NaN</td>\n",
       "      <td>POINT (-73.9757249834141 40.7697032606755)</td>\n",
       "      <td>NaN</td>\n",
       "      <td>19</td>\n",
       "      <td>4</td>\n",
       "      <td>19</td>\n",
       "      <td>13</td>\n",
       "    </tr>\n",
       "    <tr>\n",
       "      <th>4</th>\n",
       "      <td>-73.959313</td>\n",
       "      <td>40.797533</td>\n",
       "      <td>39B-AM-1018-01</td>\n",
       "      <td>39B</td>\n",
       "      <td>AM</td>\n",
       "      <td>10182018</td>\n",
       "      <td>1</td>\n",
       "      <td>NaN</td>\n",
       "      <td>NaN</td>\n",
       "      <td>NaN</td>\n",
       "      <td>...</td>\n",
       "      <td>False</td>\n",
       "      <td>False</td>\n",
       "      <td>False</td>\n",
       "      <td>NaN</td>\n",
       "      <td>POINT (-73.9593126695714 40.797533370163)</td>\n",
       "      <td>NaN</td>\n",
       "      <td>19</td>\n",
       "      <td>4</td>\n",
       "      <td>19</td>\n",
       "      <td>13</td>\n",
       "    </tr>\n",
       "  </tbody>\n",
       "</table>\n",
       "<p>5 rows × 36 columns</p>\n",
       "</div>"
      ],
      "text/plain": [
       "           X          Y Unique Squirrel ID Hectare Shift      Date  \\\n",
       "0 -73.956134  40.794082     37F-PM-1014-03     37F    PM  10142018   \n",
       "1 -73.957044  40.794851     37E-PM-1006-03     37E    PM  10062018   \n",
       "2 -73.976831  40.766718      2E-AM-1010-03     02E    AM  10102018   \n",
       "3 -73.975725  40.769703      5D-PM-1018-05     05D    PM  10182018   \n",
       "4 -73.959313  40.797533     39B-AM-1018-01     39B    AM  10182018   \n",
       "\n",
       "   Hectare Squirrel Number       Age Primary Fur Color Highlight Fur Color  \\\n",
       "0                        3       NaN               NaN                 NaN   \n",
       "1                        3     Adult              Gray            Cinnamon   \n",
       "2                        3     Adult          Cinnamon                 NaN   \n",
       "3                        5  Juvenile              Gray                 NaN   \n",
       "4                        1       NaN               NaN                 NaN   \n",
       "\n",
       "   ... Approaches Indifferent Runs from Other Interactions  \\\n",
       "0  ...      False       False     False                NaN   \n",
       "1  ...      False       False      True                 me   \n",
       "2  ...      False        True     False                NaN   \n",
       "3  ...      False       False      True                NaN   \n",
       "4  ...      False       False     False                NaN   \n",
       "\n",
       "                                       Lat/Long  Zip Codes  \\\n",
       "0    POINT (-73.9561344937861 40.7940823884086)        NaN   \n",
       "1  POINT (-73.9570437717691 40.794850940803904)        NaN   \n",
       "2   POINT (-73.9768311751004 40.76671780725581)        NaN   \n",
       "3    POINT (-73.9757249834141 40.7697032606755)        NaN   \n",
       "4     POINT (-73.9593126695714 40.797533370163)        NaN   \n",
       "\n",
       "   Community Districts  Borough Boundaries  City Council Districts  \\\n",
       "0                   19                   4                      19   \n",
       "1                   19                   4                      19   \n",
       "2                   19                   4                      19   \n",
       "3                   19                   4                      19   \n",
       "4                   19                   4                      19   \n",
       "\n",
       "   Police Precincts  \n",
       "0                13  \n",
       "1                13  \n",
       "2                13  \n",
       "3                13  \n",
       "4                13  \n",
       "\n",
       "[5 rows x 36 columns]"
      ]
     },
     "execution_count": 2,
     "metadata": {},
     "output_type": "execute_result"
    }
   ],
   "source": [
    "squirrels.head()"
   ]
  },
  {
   "cell_type": "code",
   "execution_count": 3,
   "metadata": {},
   "outputs": [
    {
     "data": {
      "text/html": [
       "<div>\n",
       "<style scoped>\n",
       "    .dataframe tbody tr th:only-of-type {\n",
       "        vertical-align: middle;\n",
       "    }\n",
       "\n",
       "    .dataframe tbody tr th {\n",
       "        vertical-align: top;\n",
       "    }\n",
       "\n",
       "    .dataframe thead th {\n",
       "        text-align: right;\n",
       "    }\n",
       "</style>\n",
       "<table border=\"1\" class=\"dataframe\">\n",
       "  <thead>\n",
       "    <tr style=\"text-align: right;\">\n",
       "      <th></th>\n",
       "      <th>Hectare</th>\n",
       "      <th>Shift</th>\n",
       "      <th>Date</th>\n",
       "      <th>Anonymized Sighter</th>\n",
       "      <th>Sighter Observed Weather Data</th>\n",
       "      <th>Litter</th>\n",
       "      <th>Litter Notes</th>\n",
       "      <th>Other Animal Sightings</th>\n",
       "      <th>Hectare Conditions</th>\n",
       "      <th>Hectare Conditions Notes</th>\n",
       "      <th>Number of sighters</th>\n",
       "      <th>Number of Squirrels</th>\n",
       "      <th>Total Time of Sighting</th>\n",
       "    </tr>\n",
       "  </thead>\n",
       "  <tbody>\n",
       "    <tr>\n",
       "      <th>0</th>\n",
       "      <td>01A</td>\n",
       "      <td>AM</td>\n",
       "      <td>10072018</td>\n",
       "      <td>110.0</td>\n",
       "      <td>70º F, Foggy</td>\n",
       "      <td>Some</td>\n",
       "      <td>NaN</td>\n",
       "      <td>Humans, Pigeons</td>\n",
       "      <td>Busy</td>\n",
       "      <td>NaN</td>\n",
       "      <td>1</td>\n",
       "      <td>4</td>\n",
       "      <td>22.0</td>\n",
       "    </tr>\n",
       "    <tr>\n",
       "      <th>1</th>\n",
       "      <td>01A</td>\n",
       "      <td>PM</td>\n",
       "      <td>10142018</td>\n",
       "      <td>177.0</td>\n",
       "      <td>54º F, overcast</td>\n",
       "      <td>Abundant</td>\n",
       "      <td>NaN</td>\n",
       "      <td>Humans, Pigeons</td>\n",
       "      <td>Busy</td>\n",
       "      <td>NaN</td>\n",
       "      <td>1</td>\n",
       "      <td>7</td>\n",
       "      <td>26.0</td>\n",
       "    </tr>\n",
       "    <tr>\n",
       "      <th>2</th>\n",
       "      <td>01B</td>\n",
       "      <td>AM</td>\n",
       "      <td>10122018</td>\n",
       "      <td>11.0</td>\n",
       "      <td>60º F, sunny</td>\n",
       "      <td>Some</td>\n",
       "      <td>NaN</td>\n",
       "      <td>Humans, Dogs, Pigeons, Horses</td>\n",
       "      <td>Busy</td>\n",
       "      <td>NaN</td>\n",
       "      <td>1</td>\n",
       "      <td>17</td>\n",
       "      <td>23.0</td>\n",
       "    </tr>\n",
       "    <tr>\n",
       "      <th>3</th>\n",
       "      <td>01B</td>\n",
       "      <td>PM</td>\n",
       "      <td>10192018</td>\n",
       "      <td>109.0</td>\n",
       "      <td>59.8º F, Sun, Cool</td>\n",
       "      <td>Some</td>\n",
       "      <td>NaN</td>\n",
       "      <td>Humans, Dogs, Pigeons, Sparrow, Blue jay</td>\n",
       "      <td>Busy</td>\n",
       "      <td>NaN</td>\n",
       "      <td>1</td>\n",
       "      <td>10</td>\n",
       "      <td>35.0</td>\n",
       "    </tr>\n",
       "    <tr>\n",
       "      <th>4</th>\n",
       "      <td>01C</td>\n",
       "      <td>PM</td>\n",
       "      <td>10132018</td>\n",
       "      <td>241.0</td>\n",
       "      <td>55° F, Partly Cloudy</td>\n",
       "      <td>None</td>\n",
       "      <td>NaN</td>\n",
       "      <td>Humans, Dogs, Pigeons, Birds</td>\n",
       "      <td>Busy</td>\n",
       "      <td>NaN</td>\n",
       "      <td>1</td>\n",
       "      <td>10</td>\n",
       "      <td>25.0</td>\n",
       "    </tr>\n",
       "  </tbody>\n",
       "</table>\n",
       "</div>"
      ],
      "text/plain": [
       "  Hectare Shift      Date  Anonymized Sighter Sighter Observed Weather Data  \\\n",
       "0     01A    AM  10072018               110.0                  70º F, Foggy   \n",
       "1     01A    PM  10142018               177.0               54º F, overcast   \n",
       "2     01B    AM  10122018                11.0                  60º F, sunny   \n",
       "3     01B    PM  10192018               109.0            59.8º F, Sun, Cool   \n",
       "4     01C    PM  10132018               241.0          55° F, Partly Cloudy   \n",
       "\n",
       "     Litter Litter Notes                    Other Animal Sightings  \\\n",
       "0      Some          NaN                           Humans, Pigeons   \n",
       "1  Abundant          NaN                           Humans, Pigeons   \n",
       "2      Some          NaN             Humans, Dogs, Pigeons, Horses   \n",
       "3      Some          NaN  Humans, Dogs, Pigeons, Sparrow, Blue jay   \n",
       "4      None          NaN              Humans, Dogs, Pigeons, Birds   \n",
       "\n",
       "  Hectare Conditions Hectare Conditions Notes  Number of sighters  \\\n",
       "0               Busy                      NaN                   1   \n",
       "1               Busy                      NaN                   1   \n",
       "2               Busy                      NaN                   1   \n",
       "3               Busy                      NaN                   1   \n",
       "4               Busy                      NaN                   1   \n",
       "\n",
       "   Number of Squirrels  Total Time of Sighting  \n",
       "0                    4                    22.0  \n",
       "1                    7                    26.0  \n",
       "2                   17                    23.0  \n",
       "3                   10                    35.0  \n",
       "4                   10                    25.0  "
      ]
     },
     "execution_count": 3,
     "metadata": {},
     "output_type": "execute_result"
    }
   ],
   "source": [
    "hectare.head()"
   ]
  },
  {
   "cell_type": "code",
   "execution_count": 4,
   "metadata": {},
   "outputs": [
    {
     "data": {
      "text/plain": [
       "Index(['X', 'Y', 'Unique Squirrel ID', 'Hectare', 'Shift_x', 'Date_x',\n",
       "       'Hectare Squirrel Number', 'Age', 'Primary Fur Color',\n",
       "       'Highlight Fur Color', 'Combination of Primary and Highlight Color',\n",
       "       'Color notes', 'Location', 'Above Ground Sighter Measurement',\n",
       "       'Specific Location', 'Running', 'Chasing', 'Climbing', 'Eating',\n",
       "       'Foraging', 'Other Activities', 'Kuks', 'Quaas', 'Moans', 'Tail flags',\n",
       "       'Tail twitches', 'Approaches', 'Indifferent', 'Runs from',\n",
       "       'Other Interactions', 'Lat/Long', 'Zip Codes', 'Community Districts',\n",
       "       'Borough Boundaries', 'City Council Districts', 'Police Precincts',\n",
       "       'Shift_y', 'Date_y', 'Anonymized Sighter',\n",
       "       'Sighter Observed Weather Data', 'Litter', 'Litter Notes',\n",
       "       'Other Animal Sightings', 'Hectare Conditions',\n",
       "       'Hectare Conditions Notes', 'Number of sighters', 'Number of Squirrels',\n",
       "       'Total Time of Sighting'],\n",
       "      dtype='object')"
      ]
     },
     "execution_count": 4,
     "metadata": {},
     "output_type": "execute_result"
    }
   ],
   "source": [
    "# Merging two datasets together\n",
    "df=pd.merge(squirrels, hectare, how='left', on='Hectare')\n",
    "df.columns"
   ]
  },
  {
   "cell_type": "markdown",
   "metadata": {},
   "source": [
    "## Transform Data\n",
    "\n",
    "Being that most of the data came in strings or booleans, I converted those values to numbers. In terms of the Age colums, a value of 0 means the squirrel is an Juvenile and a value of 1 means the squirrel is an Adult."
   ]
  },
  {
   "cell_type": "code",
   "execution_count": 5,
   "metadata": {},
   "outputs": [],
   "source": [
    "#Shift: 'AM'=0, 'PM=1'\n",
    "df.loc[df['Shift_x'] == 'AM', 'Shift_x'] = int(0)\n",
    "df.loc[df['Shift_x'] == 'PM', 'Shift_x'] = int(1)\n",
    "          \n",
    "#Age: 'Juvenile'=0, 'Adult'=1\n",
    "df.loc[df['Age'] == 'Juvenile', 'Age'] = int(0)\n",
    "df.loc[df['Age'] == 'Adult', 'Age'] = int(1)\n",
    "df.loc[df['Age'] == '?', 'Age'] = np.nan\n",
    "\n",
    "#Primary Fur Color: 'Gray'=0, 'Cinnamon'=1, 'Black'=2 \n",
    "df.loc[df['Primary Fur Color'] == 'Gray', 'Primary Fur Color'] = int(0)\n",
    "df.loc[df['Primary Fur Color'] == 'Cinnamon', 'Primary Fur Color'] = int(1)\n",
    "df.loc[df['Primary Fur Color'] == 'Black', 'Primary Fur Color'] = int(2)\n",
    "\n",
    "#Location: 'Ground Plane'=0, 'Above Ground'=1\n",
    "df.loc[df['Location'] == 'Ground Plane', 'Location'] = int(0)\n",
    "df.loc[df['Location'] == 'Above Ground', 'Location'] = int(1)\n",
    "\n",
    "#All Columns from 'Running' to 'Runs from': 'False'=0, \"True\"=1\n",
    "cols=np.array(['Running','Chasing','Climbing','Eating','Foraging','Kuks','Quaas','Moans','Tail flags','Tail twitches','Approaches','Indifferent','Runs from'])\n",
    "for x in cols:\n",
    "    df.loc[df[x] == False, x] = int(0)\n",
    "    df.loc[df[x] == True, x] = int(1)\n",
    "\n",
    "\n",
    "#Litter 'None'=0, 'Some'=1, 'Abundant'=2\n",
    "df.loc[df['Litter'] == 'None', 'Litter'] = int(0)\n",
    "df.loc[df['Litter'] == 'Some', 'Litter'] = int(1)\n",
    "df.loc[df['Litter'] == 'Abundant', 'Litter'] = int(2)\n",
    "\n",
    "    "
   ]
  },
  {
   "cell_type": "markdown",
   "metadata": {},
   "source": [
    "## Clean the Data\n",
    "\n",
    "To clean our data, we will first drop any columns that we do not need. Then, we will drop any rows that have NAN values:"
   ]
  },
  {
   "cell_type": "code",
   "execution_count": 6,
   "metadata": {},
   "outputs": [
    {
     "name": "stdout",
     "output_type": "stream",
     "text": [
      "<class 'pandas.core.frame.DataFrame'>\n",
      "Int64Index: 6030 entries, 0 to 6029\n",
      "Data columns (total 24 columns):\n",
      " #   Column                  Non-Null Count  Dtype  \n",
      "---  ------                  --------------  -----  \n",
      " 0   X                       6030 non-null   float64\n",
      " 1   Y                       6030 non-null   float64\n",
      " 2   Unique Squirrel ID      6030 non-null   object \n",
      " 3   Hectare                 6030 non-null   object \n",
      " 4   Shift_x                 6030 non-null   object \n",
      " 5   Age                     5780 non-null   object \n",
      " 6   Primary Fur Color       5920 non-null   object \n",
      " 7   Location                5903 non-null   object \n",
      " 8   Running                 6030 non-null   object \n",
      " 9   Chasing                 6030 non-null   object \n",
      " 10  Climbing                6030 non-null   object \n",
      " 11  Eating                  6030 non-null   object \n",
      " 12  Foraging                6030 non-null   object \n",
      " 13  Kuks                    6030 non-null   object \n",
      " 14  Quaas                   6030 non-null   object \n",
      " 15  Moans                   6030 non-null   object \n",
      " 16  Tail flags              6030 non-null   object \n",
      " 17  Tail twitches           6030 non-null   object \n",
      " 18  Approaches              6030 non-null   object \n",
      " 19  Indifferent             6030 non-null   object \n",
      " 20  Runs from               6030 non-null   object \n",
      " 21  Litter                  5274 non-null   object \n",
      " 22  Number of Squirrels     6030 non-null   int64  \n",
      " 23  Total Time of Sighting  5894 non-null   float64\n",
      "dtypes: float64(3), int64(1), object(20)\n",
      "memory usage: 1.2+ MB\n"
     ]
    }
   ],
   "source": [
    "to_drop=['Date_x','Date_y','Combination of Primary and Highlight Color','Color notes','Above Ground Sighter Measurement','Other Activities','Other Interactions','Shift_y','Zip Codes','Community Districts','Borough Boundaries','City Council Districts','Police Precincts','Sighter Observed Weather Data','Litter Notes','Specific Location','Anonymized Sighter','Other Animal Sightings','Hectare Squirrel Number','Highlight Fur Color','Hectare Conditions Notes','Number of sighters','Hectare Conditions','Lat/Long',]\n",
    "df.drop(labels=to_drop, axis=1, inplace=True)\n",
    "df.info()"
   ]
  },
  {
   "cell_type": "code",
   "execution_count": 7,
   "metadata": {},
   "outputs": [
    {
     "data": {
      "text/plain": [
       "X                         False\n",
       "Y                         False\n",
       "Unique Squirrel ID        False\n",
       "Hectare                   False\n",
       "Shift_x                   False\n",
       "Age                        True\n",
       "Primary Fur Color          True\n",
       "Location                   True\n",
       "Running                   False\n",
       "Chasing                   False\n",
       "Climbing                  False\n",
       "Eating                    False\n",
       "Foraging                  False\n",
       "Kuks                      False\n",
       "Quaas                     False\n",
       "Moans                     False\n",
       "Tail flags                False\n",
       "Tail twitches             False\n",
       "Approaches                False\n",
       "Indifferent               False\n",
       "Runs from                 False\n",
       "Litter                     True\n",
       "Number of Squirrels       False\n",
       "Total Time of Sighting     True\n",
       "dtype: bool"
      ]
     },
     "execution_count": 7,
     "metadata": {},
     "output_type": "execute_result"
    }
   ],
   "source": [
    "df.isna().any()"
   ]
  },
  {
   "cell_type": "code",
   "execution_count": 8,
   "metadata": {
    "scrolled": true
   },
   "outputs": [
    {
     "data": {
      "text/plain": [
       "X                         False\n",
       "Y                         False\n",
       "Unique Squirrel ID        False\n",
       "Hectare                   False\n",
       "Shift_x                   False\n",
       "Age                       False\n",
       "Primary Fur Color         False\n",
       "Location                  False\n",
       "Running                   False\n",
       "Chasing                   False\n",
       "Climbing                  False\n",
       "Eating                    False\n",
       "Foraging                  False\n",
       "Kuks                      False\n",
       "Quaas                     False\n",
       "Moans                     False\n",
       "Tail flags                False\n",
       "Tail twitches             False\n",
       "Approaches                False\n",
       "Indifferent               False\n",
       "Runs from                 False\n",
       "Litter                    False\n",
       "Number of Squirrels       False\n",
       "Total Time of Sighting    False\n",
       "dtype: bool"
      ]
     },
     "execution_count": 8,
     "metadata": {},
     "output_type": "execute_result"
    }
   ],
   "source": [
    "df.dropna(axis=0,inplace=True)\n",
    "df.isna().any()"
   ]
  },
  {
   "cell_type": "markdown",
   "metadata": {},
   "source": [
    "Many of our columns are represented by the type \"object\". This is a problem because we can do numerical calculations with objects. Therefore, we will use the pandas to_numeric function to convert the object values to numbers:"
   ]
  },
  {
   "cell_type": "code",
   "execution_count": 9,
   "metadata": {},
   "outputs": [
    {
     "data": {
      "text/plain": [
       "X                         float64\n",
       "Y                         float64\n",
       "Unique Squirrel ID         object\n",
       "Hectare                    object\n",
       "Shift_x                     int64\n",
       "Age                         int64\n",
       "Primary Fur Color           int64\n",
       "Location                    int64\n",
       "Running                     int64\n",
       "Chasing                     int64\n",
       "Climbing                    int64\n",
       "Eating                      int64\n",
       "Foraging                    int64\n",
       "Kuks                        int64\n",
       "Quaas                       int64\n",
       "Moans                       int64\n",
       "Tail flags                  int64\n",
       "Tail twitches               int64\n",
       "Approaches                  int64\n",
       "Indifferent                 int64\n",
       "Runs from                   int64\n",
       "Litter                      int64\n",
       "Number of Squirrels         int64\n",
       "Total Time of Sighting    float64\n",
       "dtype: object"
      ]
     },
     "execution_count": 9,
     "metadata": {},
     "output_type": "execute_result"
    }
   ],
   "source": [
    "cols=['Shift_x','Age','Primary Fur Color','Location','Primary Fur Color','Location','Running','Chasing','Climbing','Eating','Foraging','Kuks','Quaas','Moans','Tail flags','Tail twitches','Approaches','Indifferent','Runs from','Litter']\n",
    "for x in cols:\n",
    "    df[x]=pd.to_numeric(df[x])\n",
    "df.dtypes"
   ]
  },
  {
   "cell_type": "markdown",
   "metadata": {},
   "source": [
    "Lastly, let's find out which varibles correlate with age the most:"
   ]
  },
  {
   "cell_type": "code",
   "execution_count": 10,
   "metadata": {
    "scrolled": false
   },
   "outputs": [
    {
     "data": {
      "text/plain": [
       "Location                 -0.083305\n",
       "Chasing                  -0.039248\n",
       "Runs from                -0.033159\n",
       "Climbing                 -0.030557\n",
       "Eating                   -0.028444\n",
       "Kuks                     -0.025838\n",
       "Primary Fur Color        -0.021079\n",
       "Y                        -0.015962\n",
       "Tail twitches            -0.015223\n",
       "Running                  -0.004587\n",
       "Tail flags               -0.003651\n",
       "Number of Squirrels      -0.002842\n",
       "Quaas                    -0.001830\n",
       "Approaches                0.001513\n",
       "Moans                     0.005142\n",
       "Shift_x                   0.008321\n",
       "Total Time of Sighting    0.010036\n",
       "X                         0.013683\n",
       "Indifferent               0.041990\n",
       "Litter                    0.044100\n",
       "Foraging                  0.091760\n",
       "Age                       1.000000\n",
       "Name: Age, dtype: float64"
      ]
     },
     "execution_count": 10,
     "metadata": {},
     "output_type": "execute_result"
    }
   ],
   "source": [
    "df.corr().Age.sort_values()"
   ]
  },
  {
   "cell_type": "markdown",
   "metadata": {},
   "source": [
    "It seems that Location (above ground/ground level), Chasing, (another squirrel), Runs from (humans), Foraging (for food), Amount of Litter, and Indifference (toward humans) have the strongest correlations with Age."
   ]
  },
  {
   "cell_type": "markdown",
   "metadata": {},
   "source": [
    "## Imbalanced Classification\n",
    "Let us examine the distubution of 0 and 1's."
   ]
  },
  {
   "cell_type": "code",
   "execution_count": 11,
   "metadata": {},
   "outputs": [
    {
     "name": "stdout",
     "output_type": "stream",
     "text": [
      "Values equal to 0: 553\n",
      "Values equal to 1: 4306\n"
     ]
    }
   ],
   "source": [
    "ones = df[df.Age==1] #majority\n",
    "zero = df[df.Age==0] #minority\n",
    "\n",
    "print(\"Values equal to 0: \" +str(len(zero)))\n",
    "print(\"Values equal to 1: \" +str(len(ones)))"
   ]
  },
  {
   "cell_type": "markdown",
   "metadata": {},
   "source": [
    "This is a case of imbalanced classification, when one class has many more observations than another class. In this case, because we have so many more Adults than Juveniles, our model would predict the Adults accurately, but would not be able to predict Juveniles. Let's fix this by upsapmling the minority class, which are the Juveniles in this case."
   ]
  },
  {
   "cell_type": "code",
   "execution_count": 12,
   "metadata": {},
   "outputs": [
    {
     "data": {
      "text/plain": [
       "1    4306\n",
       "0    4306\n",
       "Name: Age, dtype: int64"
      ]
     },
     "execution_count": 12,
     "metadata": {},
     "output_type": "execute_result"
    }
   ],
   "source": [
    "#Upsample minority class\n",
    "df_minority =resample(zero, replace=True, n_samples=4306, random_state=123)\n",
    "\n",
    "#Combine majority class with upsampled minority class\n",
    "df_balanced=pd.concat([ones,df_minority])\n",
    "\n",
    "#Display new class counts\n",
    "df_balanced.Age.value_counts()"
   ]
  },
  {
   "cell_type": "markdown",
   "metadata": {},
   "source": [
    "As you can see, the ratio of the two classes in now 1:1. Let's now perform Logistic Regression with our balanced dataset."
   ]
  },
  {
   "cell_type": "markdown",
   "metadata": {},
   "source": [
    "# Logistic Regression"
   ]
  },
  {
   "cell_type": "markdown",
   "metadata": {},
   "source": [
    "To begin our Logistics Regression model we must define our independent and dependent variables:"
   ]
  },
  {
   "cell_type": "code",
   "execution_count": 13,
   "metadata": {},
   "outputs": [],
   "source": [
    "x=df_balanced[[\"Location\",\"Chasing\",\"Runs from\",\"Climbing\",\"Eating\",\"Kuks\",\"Primary Fur Color\",\"Tail twitches\",\"Running\",\"Tail flags\",\"Number of Squirrels\",\"Quaas\",\"Approaches\",\"Moans\",\"Shift_x\",\"Total Time of Sighting\",\"Indifferent\",\"Litter\",\"Foraging\"]]\n",
    "y=df_balanced[\"Age\"]"
   ]
  },
  {
   "cell_type": "code",
   "execution_count": 14,
   "metadata": {
    "scrolled": true
   },
   "outputs": [],
   "source": [
    "#Splitting data into training and testing sets\n",
    "x_train, x_test, y_train, y_test = train_test_split(x, y, test_size = 0.2)"
   ]
  },
  {
   "cell_type": "markdown",
   "metadata": {},
   "source": [
    "### Create and Train Model"
   ]
  },
  {
   "cell_type": "code",
   "execution_count": 15,
   "metadata": {},
   "outputs": [],
   "source": [
    "model = LogisticRegression(max_iter=135)\n",
    "model.fit(x,y)\n",
    "y_pred = model.predict(x)"
   ]
  },
  {
   "cell_type": "markdown",
   "metadata": {},
   "source": [
    "### Evaluate Model with Confusion Matrix and Classification Report"
   ]
  },
  {
   "cell_type": "code",
   "execution_count": 16,
   "metadata": {},
   "outputs": [
    {
     "data": {
      "text/plain": [
       "array([[2473, 1833],\n",
       "       [1711, 2595]])"
      ]
     },
     "execution_count": 16,
     "metadata": {},
     "output_type": "execute_result"
    }
   ],
   "source": [
    "confusion_matrix(y, y_pred)"
   ]
  },
  {
   "cell_type": "code",
   "execution_count": 17,
   "metadata": {
    "scrolled": true
   },
   "outputs": [
    {
     "name": "stdout",
     "output_type": "stream",
     "text": [
      "              precision    recall  f1-score   support\n",
      "\n",
      "           0       0.59      0.57      0.58      4306\n",
      "           1       0.59      0.60      0.59      4306\n",
      "\n",
      "    accuracy                           0.59      8612\n",
      "   macro avg       0.59      0.59      0.59      8612\n",
      "weighted avg       0.59      0.59      0.59      8612\n",
      "\n"
     ]
    }
   ],
   "source": [
    "import warnings\n",
    "warnings.filterwarnings('always')\n",
    "\n",
    "print(classification_report(y, y_pred))"
   ]
  },
  {
   "cell_type": "markdown",
   "metadata": {},
   "source": [
    "This is a reasonably performing model with and accuracy of 59%.\n"
   ]
  },
  {
   "cell_type": "markdown",
   "metadata": {},
   "source": [
    "## Predict the Age of a Squirrel\n",
    "As a bonus, I'm going to predict the age of a squirrel I saw outside my house."
   ]
  },
  {
   "cell_type": "code",
   "execution_count": 18,
   "metadata": {
    "scrolled": false
   },
   "outputs": [
    {
     "name": "stdout",
     "output_type": "stream",
     "text": [
      "The squirrel you saw was a Juvenile!\n"
     ]
    }
   ],
   "source": [
    "attributes=[[0,0,1,0,0,0,1,0,1,0,1,0,0,0,0,2,1,0,0]]\n",
    "if(model.predict(attributes)[0] == 0):\n",
    "    print(\"The squirrel you saw was a Juvenile!\")\n",
    "else:\n",
    "    print(\"The squirrel you saw was an Adult!\")\n"
   ]
  },
  {
   "cell_type": "markdown",
   "metadata": {},
   "source": [
    "## Conclusion\n",
    "\n",
    "This was a very intersting project. I got to explore binary classifcation with Logistic Regression and learned how to deal with issues such as imbalanced classes. "
   ]
  }
 ],
 "metadata": {
  "kernelspec": {
   "display_name": "Python 3",
   "language": "python",
   "name": "python3"
  },
  "language_info": {
   "codemirror_mode": {
    "name": "ipython",
    "version": 3
   },
   "file_extension": ".py",
   "mimetype": "text/x-python",
   "name": "python",
   "nbconvert_exporter": "python",
   "pygments_lexer": "ipython3",
   "version": "3.7.3"
  }
 },
 "nbformat": 4,
 "nbformat_minor": 4
}
